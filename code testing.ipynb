{
 "cells": [
  {
   "cell_type": "code",
   "execution_count": null,
   "metadata": {},
   "outputs": [],
   "source": [
    "import pandas as pd\n",
    "import joblib\n",
    "from sklearn.model_selection import train_test_split\n",
    "from sklearn.preprocessing import StandardScaler\n",
    "from sklearn.ensemble import RandomForestRegressor\n",
    "from sklearn.metrics import mean_squared_error, mean_absolute_error, r2_score\n"
   ]
  },
  {
   "cell_type": "code",
   "execution_count": null,
   "metadata": {},
   "outputs": [],
   "source": [
    "\n",
    "# Load the data\n",
    "def load_data(file_path):\n",
    "    data = pd.read_csv(file_path, parse_dates=['date'], index_col='date')\n",
    "    data.sort_index(inplace=True)\n",
    "    return data\n",
    "\n",
    "# Preprocess the data\n",
    "def preprocess_data(data):\n",
    "    data['priceUsd_lag1'] = data['priceUsd'].shift(1)\n",
    "    data['priceUsd_lag2'] = data['priceUsd'].shift(2)\n",
    "    data['priceUsd_lag3'] = data['priceUsd'].shift(3)\n",
    "    data.dropna(inplace=True)\n",
    "    X = data[['priceUsd_lag1', 'priceUsd_lag2', 'priceUsd_lag3', 'circulatingSupply']]\n",
    "    y = data['priceUsd']\n",
    "    return X, y\n",
    "\n",
    "# Train the model\n",
    "def train_model(X_train, y_train, n_estimators=100, random_state=42):\n",
    "    scaler = StandardScaler()\n",
    "    X_train_scaled = scaler.fit_transform(X_train)  # Fit and transform on training data\n",
    "    model = RandomForestRegressor(n_estimators=n_estimators, random_state=random_state)\n",
    "    model.fit(X_train_scaled, y_train)\n",
    "    return model, scaler\n",
    "\n",
    "if __name__ == \"__main__\":\n",
    "    # Load data\n",
    "    data_file = 'btc_usd_hourly.csv'\n",
    "    data = load_data(data_file)\n",
    "\n",
    "    # Preprocess data\n",
    "    X, y = preprocess_data(data)\n",
    "\n",
    "    # Split data into training and testing sets\n",
    "    X_train, X_test, y_train, y_test = train_test_split(X, y, test_size=0.2, shuffle=False)\n",
    "\n",
    "    # Train the model and get the fitted scaler\n",
    "    model, scaler = train_model(X_train, y_train)\n",
    "\n",
    "    # Save the model and scaler\n",
    "    joblib.dump(model, 'random_forest_model.pkl')\n",
    "    joblib.dump(scaler, 'scaler.pkl')\n",
    "\n",
    "    # Evaluate the model using the trained model and scaler\n",
    "    X_test_scaled = scaler.transform(X_test)\n",
    "    y_pred = model.predict(X_test_scaled)\n",
    "\n",
    "    mse, rmse, mae, r2 = mean_squared_error(y_test, y_pred), mean_squared_error(y_test, y_pred, squared=False), mean_absolute_error(y_test, y_pred), r2_score(y_test, y_pred)\n",
    "\n",
    "    print(f'Mean Squared Error (MSE): {mse}')\n",
    "    print(f'Root Mean Squared Error (RMSE): {rmse}')\n",
    "    print(f'Mean Absolute Error (MAE): {mae}')\n",
    "    print(f'R-squared (R2): {r2}')\n"
   ]
  }
 ],
 "metadata": {
  "language_info": {
   "name": "python"
  }
 },
 "nbformat": 4,
 "nbformat_minor": 2
}
